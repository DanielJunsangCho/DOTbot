{
 "cells": [
  {
   "cell_type": "code",
   "execution_count": 93,
   "metadata": {},
   "outputs": [
    {
     "data": {
      "text/plain": [
       "False"
      ]
     },
     "execution_count": 93,
     "metadata": {},
     "output_type": "execute_result"
    }
   ],
   "source": [
    "from dotenv import load_dotenv\n",
    "load_dotenv(\".env\")"
   ]
  },
  {
   "cell_type": "markdown",
   "metadata": {},
   "source": [
    "#### State\n",
    "\n",
    "When building an agent, it's important to consider the information that you want to track over time. We'll use LangGraph's pre-built [`MessagesState` object](https://langchain-ai.github.io/langgraph/concepts/low_level/#messagesstate), which is a just dictionary with a `messages` key that appends messages returned by nodes [as its update logic](https://langchain-ai.github.io/langgraph/concepts/low_level/#reducers). However, LangGraph gives you flexibility to track other information. We'll define a custom `State` object that extends `MessagesState` and adds a `url_input`\n"
   ]
  },
  {
   "cell_type": "code",
   "execution_count": 83,
   "metadata": {},
   "outputs": [],
   "source": [
    "from langgraph.graph import MessagesState\n",
    "\n",
    "class State(MessagesState):\n",
    "    # We can add a specific key to our state for the email input\n",
    "    url: str\n"
   ]
  },
  {
   "cell_type": "code",
   "execution_count": 84,
   "metadata": {},
   "outputs": [],
   "source": [
    "from asyncio import streams\n",
    "from datetime import datetime\n",
    "from pydantic import BaseModel\n",
    "from langgraph.types import Command\n",
    "from typing import Literal\n",
    "from langchain_core.tools import tool\n",
    "import requests\n",
    "import csv\n",
    "from bs4 import BeautifulSoup\n",
    "\n",
    "@tool\n",
    "def url_handler(url: str) -> str:\n",
    "    \"\"\"\n",
    "    Pulls the HTML content from the URL\n",
    "    Args: \n",
    "        url: url string.\n",
    "    Returns:\n",
    "        the content of the HTML in string.\n",
    "    \"\"\"\n",
    "\n",
    "    r = requests.get(url)\n",
    "    r = r.text\n",
    "    soup = BeautifulSoup(r, 'html.parser')\n",
    "    body_info = str(soup.find_all('tbody'))\n",
    "\n",
    "    return body_info\n",
    "\n",
    "\n",
    "@tool\n",
    "def write_to_csv(data: list, filename: str = \"output.csv\") -> bool:\n",
    "    \"\"\"\n",
    "    Writes a list of dictionaries to a CSV file.\n",
    "    Args:\n",
    "        data: List of dictionaries, where each dict represents a row.\n",
    "        filename: Name of the CSV file to write to.\n",
    "    Returns:\n",
    "        True if successful, False otherwise.\n",
    "    \"\"\"\n",
    "    if not data:\n",
    "        return False\n",
    "    try:\n",
    "        # Get the fieldnames from the first dict\n",
    "        fieldnames = data[0].keys()\n",
    "        with open(filename, \"w\", newline=\"\", encoding=\"utf-8\") as csvfile:\n",
    "            writer = csv.DictWriter(csvfile, fieldnames=fieldnames)\n",
    "            writer.writeheader()\n",
    "            writer.writerows(data)\n",
    "        return True\n",
    "    except Exception as e:\n",
    "        print(f\"Error writing CSV: {e}\")\n",
    "        return False\n",
    "\n",
    "\n",
    "@tool\n",
    "class Done(BaseModel):\n",
    "      \"\"\"E-mail has been sent.\"\"\"\n",
    "      done: bool"
   ]
  },
  {
   "cell_type": "code",
   "execution_count": 85,
   "metadata": {},
   "outputs": [
    {
     "name": "stdout",
     "output_type": "stream",
     "text": [
      "The autoreload extension is already loaded. To reload it, use:\n",
      "  %reload_ext autoreload\n"
     ]
    }
   ],
   "source": [
    "\n",
    "%load_ext autoreload\n",
    "%autoreload 2\n",
    "\n",
    "from prompts.agent_prompt import agent_system_prompt\n",
    "from prompts.tools_prompts import URL_TOOLS_PROMPT, CSV_TOOLS_PROMPT\n",
    "from langchain.chat_models import init_chat_model\n",
    "from langgraph.graph import END"
   ]
  },
  {
   "cell_type": "code",
   "execution_count": 86,
   "metadata": {},
   "outputs": [],
   "source": [
    "# Collect all tools\n",
    "tools = [url_handler, write_to_csv, Done]\n",
    "tools_by_name = {tool.name: tool for tool in tools}\n",
    "background = None\n",
    "\n",
    "llm = init_chat_model(\"openai:gpt-4.1\", temperature=0.0)\n",
    "llm_with_tools = llm.bind_tools(tools, tool_choice=\"any\")\n",
    "\n",
    "def llm_call(state: State):\n",
    "    \"\"\"LLM decides whether to call a tool or not\"\"\"\n",
    "\n",
    "    return {\n",
    "        \"messages\": [\n",
    "            # Invoke the LLM\n",
    "            llm_with_tools.invoke(\n",
    "                # Add the system prompt\n",
    "                [   \n",
    "                    {\"role\": \"system\", \"content\": agent_system_prompt.format(\n",
    "                        url_tools_prompt=URL_TOOLS_PROMPT,\n",
    "                        csv_tools_prompt=CSV_TOOLS_PROMPT,\n",
    "                        background=background,\n",
    "                    ) + f\"\\n\\nThe URL to scrape is: {state['url']}\"\n",
    "                }\n",
    "                ]\n",
    "                # Add the current messages to the prompt\n",
    "                + state[\"messages\"]\n",
    "            )\n",
    "        ]\n",
    "    }\n",
    "\n",
    "def tool_handler(state: State):\n",
    "    \"\"\"Performs the tool call.\"\"\"\n",
    "\n",
    "    # List for tool messages\n",
    "    result = []\n",
    "    \n",
    "    # Iterate through tool calls\n",
    "    for tool_call in state[\"messages\"][-1].tool_calls:\n",
    "        # Get the tool\n",
    "        tool = tools_by_name[tool_call[\"name\"]]\n",
    "        # Run it\n",
    "        observation = tool.invoke(tool_call[\"args\"])\n",
    "        # Create a tool message\n",
    "        result.append({\"role\": \"tool\", \"content\" : observation, \"tool_call_id\": tool_call[\"id\"]})\n",
    "    \n",
    "    # Add it to our messages\n",
    "    return {\"messages\": result}\n",
    "\n",
    "def should_continue(state: State) -> Literal[\"tool_handler\", \"__end__\"]:\n",
    "    \"\"\"Route to tool handler, or end if Done tool called.\"\"\"\n",
    "    \n",
    "    # Get the last message\n",
    "    messages = state[\"messages\"]\n",
    "    last_message = messages[-1]\n",
    "    \n",
    "    # Check if it's a Done tool call\n",
    "    if last_message.tool_calls:\n",
    "        for tool_call in last_message.tool_calls: \n",
    "            if tool_call[\"name\"] == \"Done\":\n",
    "                return \"__end__\"\n",
    "            else:\n",
    "                return \"tool_handler\"\n",
    "                \n",
    "    return \"__end__\""
   ]
  },
  {
   "cell_type": "code",
   "execution_count": 87,
   "metadata": {},
   "outputs": [],
   "source": [
    "from langgraph.graph import StateGraph, START, END\n",
    "\n",
    "# Build workflow\n",
    "overall_workflow = StateGraph(State, input=StateInput)\n",
    "\n",
    "# Add nodes\n",
    "overall_workflow.add_node(\"llm_call\", llm_call)\n",
    "overall_workflow.add_node(\"tool_handler\", tool_handler)\n",
    "\n",
    "# Add edges\n",
    "overall_workflow.add_edge(START, \"llm_call\")\n",
    "overall_workflow.add_conditional_edges(\n",
    "    \"llm_call\",\n",
    "    should_continue,\n",
    "    {\n",
    "        \"tool_handler\": \"tool_handler\",\n",
    "        \"__end__\": END,\n",
    "    },\n",
    ")\n",
    "overall_workflow.add_edge(\"tool_handler\", \"llm_call\")\n",
    "\n",
    "# Compile the agent\n",
    "agent = overall_workflow.compile()"
   ]
  },
  {
   "cell_type": "code",
   "execution_count": 88,
   "metadata": {},
   "outputs": [],
   "source": [
    "def show_graph(graph, xray=False):\n",
    "    \"\"\"Display a LangGraph mermaid diagram with fallback rendering.\n",
    "    \n",
    "    Handles timeout errors from mermaid.ink by falling back to pyppeteer.\n",
    "    \n",
    "    Args:\n",
    "        graph: The LangGraph object that has a get_graph() method\n",
    "    \"\"\"\n",
    "    from IPython.display import Image\n",
    "    try:\n",
    "        # Try the default renderer first\n",
    "        return Image(graph.get_graph(xray=xray).draw_mermaid_png())\n",
    "    except Exception as e:\n",
    "        # Fall back to pyppeteer if the default renderer fails\n",
    "        import nest_asyncio\n",
    "        nest_asyncio.apply()\n",
    "        from langchain_core.runnables.graph import MermaidDrawMethod\n",
    "        return Image(graph.get_graph().draw_mermaid_png(draw_method=MermaidDrawMethod.PYPPETEER))"
   ]
  },
  {
   "cell_type": "code",
   "execution_count": 89,
   "metadata": {},
   "outputs": [
    {
     "data": {
      "image/png": "[encoded data removed]",
      "text/plain": [
       "<IPython.core.display.Image object>"
      ]
     },
     "execution_count": 89,
     "metadata": {},
     "output_type": "execute_result"
    }
   ],
   "source": [
    "show_graph(agent)\n"
   ]
  },
  {
   "cell_type": "code",
   "execution_count": 90,
   "metadata": {},
   "outputs": [],
   "source": [
    "# show_graph(overall_workflow, xray=True)"
   ]
  },
  {
   "cell_type": "markdown",
   "metadata": {},
   "source": []
  },
  {
   "cell_type": "code",
   "execution_count": 92,
   "metadata": {},
   "outputs": [],
   "source": [
    "from langchain_core.messages import HumanMessage\n",
    "\n",
    "response = agent.invoke({\"url\": \"https://athletics.hamilton.edu/sports/mens-swimming-and-diving/roster\", \n",
    "                        \"messages\": [HumanMessage(content=\"Find me all information about the coaches in the roster.\")]})"
   ]
  },
  {
   "cell_type": "code",
   "execution_count": null,
   "metadata": {},
   "outputs": [],
   "source": []
  },
  {
   "cell_type": "code",
   "execution_count": null,
   "metadata": {},
   "outputs": [],
   "source": []
  }
 ],
 "metadata": {
  "kernelspec": {
   "display_name": ".venv",
   "language": "python",
   "name": "python3"
  },
  "language_info": {
   "codemirror_mode": {
    "name": "ipython",
    "version": 3
   },
   "file_extension": ".py",
   "mimetype": "text/x-python",
   "name": "python",
   "nbconvert_exporter": "python",
   "pygments_lexer": "ipython3",
   "version": "3.11.6"
  }
 },
 "nbformat": 4,
 "nbformat_minor": 2
}
